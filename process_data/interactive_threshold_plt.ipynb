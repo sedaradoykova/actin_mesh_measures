{
 "cells": [
  {
   "cell_type": "code",
   "execution_count": 22,
   "metadata": {},
   "outputs": [],
   "source": [
    "import os\n",
    "os.chdir('c:\\\\Users\\\\sedar\\\\Documents\\\\UCL\\\\1_BIOL0041_MSci_project\\\\')\n",
    "from actin_meshwork_analysis.meshwork.utils import list_files_dir_str\n",
    "import numpy as np \n",
    "import matplotlib.pyplot as plt\n",
    "from actin_meshwork_analysis.meshwork.actinimg import get_ActinImg\n",
    "\n",
    "from ipywidgets import interactive, FloatSlider\n",
    "%matplotlib inline"
   ]
  },
  {
   "cell_type": "code",
   "execution_count": 13,
   "metadata": {},
   "outputs": [],
   "source": [
    "# list and load files\n",
    "data_path = os.path.join(os.getcwd(), \"actin_meshwork_analysis/process_data/sample_data\")\n",
    "os.path.exists(data_path)\n",
    "\n",
    "all_filenames, all_filepaths = list_files_dir_str(data_path)\n",
    "celltype = 'Untransduced'\n",
    "filename, filepath = all_filenames[celltype][0], all_filepaths[celltype][0] \n",
    "\n",
    "# sample image\n",
    "actimg = get_ActinImg(filename, os.path.join(data_path,celltype))"
   ]
  },
  {
   "cell_type": "code",
   "execution_count": 33,
   "metadata": {},
   "outputs": [
    {
     "data": {
      "application/vnd.jupyter.widget-view+json": {
       "model_id": "021dc5a7be6445a9a9f09ee02fdaede1",
       "version_major": 2,
       "version_minor": 0
      },
      "text/plain": [
       "interactive(children=(FloatSlider(value=0.0001, continuous_update=False, description='threshold', max=0.009, m…"
      ]
     },
     "metadata": {},
     "output_type": "display_data"
    }
   ],
   "source": [
    "def plot_threshold(threshold):\n",
    "    theta_x6 = np.arange(0,360,60)\n",
    "\n",
    "    actimg = get_ActinImg(filename, os.path.join(data_path,celltype))\n",
    "    actimg.normalise()\n",
    "    actimg.steerable_gauss_2order_thetas(thetas=theta_x6,sigma=2,substack=[1,3],visualise=False)\n",
    "    actimg.z_project_min()\n",
    "    actimg.threshold(threshold)\n",
    "\n",
    "    actimg.visualise('manipulated')\n",
    "\n",
    "threshold = 0.0001\n",
    "\n",
    "threshold_widget = FloatSlider(min=0.0001, max=0.009, step=0.0005, value=threshold, readout_format='.5f')\n",
    "threshold_widget.continuous_update=False\n",
    "\n",
    "interactive(plot_threshold, threshold=threshold_widget)"
   ]
  }
 ],
 "metadata": {
  "kernelspec": {
   "display_name": "base",
   "language": "python",
   "name": "python3"
  },
  "language_info": {
   "codemirror_mode": {
    "name": "ipython",
    "version": 3
   },
   "file_extension": ".py",
   "mimetype": "text/x-python",
   "name": "python",
   "nbconvert_exporter": "python",
   "pygments_lexer": "ipython3",
   "version": "3.9.13"
  },
  "orig_nbformat": 4,
  "vscode": {
   "interpreter": {
    "hash": "7cdafee1362939508a8f80f806d0d9e95b0c7b5e96808a18d61c1da30a8acf3c"
   }
  }
 },
 "nbformat": 4,
 "nbformat_minor": 2
}
