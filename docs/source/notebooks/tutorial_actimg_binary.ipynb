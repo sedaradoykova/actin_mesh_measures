{
 "cells": [
  {
   "attachments": {},
   "cell_type": "markdown",
   "metadata": {},
   "source": [
    "# Actin mesh quantification"
   ]
  },
  {
   "cell_type": "code",
   "execution_count": null,
   "metadata": {},
   "outputs": [],
   "source": [
    "# from meshure.actimg_binary import get_ActImgBinary\n",
    "# import numpy as np\n",
    "# import matplotlib.pyplot as plt"
   ]
  },
  {
   "cell_type": "code",
   "execution_count": null,
   "metadata": {},
   "outputs": [],
   "source": [
    "# actimg_binary = get_ActImgBinary(actimg)\n",
    "# actimg_binary.visualise('original', 1)\n"
   ]
  },
  {
   "cell_type": "code",
   "execution_count": null,
   "metadata": {},
   "outputs": [],
   "source": [
    "# actimg_binary.surface_area(n_dilations_erosions=(0,2),closing_structure=None,extra_dilate_fill=True,verbose=False)\n",
    "# print(actimg_binary.log)\n",
    "# actimg_binary.save_log()"
   ]
  },
  {
   "cell_type": "code",
   "execution_count": null,
   "metadata": {},
   "outputs": [],
   "source": [
    "# actimg_binary.mesh_holes_area(visualise=True, saturation_area=0.6)\n",
    "# actimg_binary._saturation_area\n",
    "# np.isclose(np.max(actimg_binary.f_labels_area), 2.6)\n",
    "# plt.imshow(actimg_binary.f_labels_area, cmap='coolwarm'); plt.show()\n",
    "# actimg_binary.visualise_segmentation(save=False)\n",
    "# actimg_binary.mesh_density()\n",
    "# actimg_binary.quantify_mesh()\n",
    "# actimg_binary.peripheral_mesh_density()"
   ]
  }
 ],
 "metadata": {
  "language_info": {
   "name": "python"
  },
  "orig_nbformat": 4
 },
 "nbformat": 4,
 "nbformat_minor": 2
}
